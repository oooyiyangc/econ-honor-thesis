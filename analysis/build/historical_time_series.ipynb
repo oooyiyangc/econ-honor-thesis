{
 "cells": [
  {
   "cell_type": "markdown",
   "id": "e8d4d148",
   "metadata": {},
   "source": [
    "# Historical Time Series Analysis (1967 - 2020)\n",
    "This notebook will presents a historical time series analysis using U.S. national aggregate data from 1967-2020. "
   ]
  },
  {
   "cell_type": "code",
   "execution_count": 1,
   "id": "6f5a59c9",
   "metadata": {},
   "outputs": [],
   "source": [
    "import numpy as np\n",
    "import pandas as pd\n",
    "import matplotlib.pyplot as plt\n",
    "import seaborn as sns\n",
    "\n",
    "import re\n",
    "\n",
    "import statsmodels.api as sm\n",
    "from linearmodels import PanelOLS"
   ]
  },
  {
   "cell_type": "code",
   "execution_count": 2,
   "id": "0696f5d4",
   "metadata": {},
   "outputs": [],
   "source": [
    "DATA_DIR = \"../data/cleaned-data/\""
   ]
  },
  {
   "cell_type": "code",
   "execution_count": 3,
   "id": "544dfaa4",
   "metadata": {},
   "outputs": [
    {
     "data": {
      "text/html": [
       "<div>\n",
       "<style scoped>\n",
       "    .dataframe tbody tr th:only-of-type {\n",
       "        vertical-align: middle;\n",
       "    }\n",
       "\n",
       "    .dataframe tbody tr th {\n",
       "        vertical-align: top;\n",
       "    }\n",
       "\n",
       "    .dataframe thead th {\n",
       "        text-align: right;\n",
       "    }\n",
       "</style>\n",
       "<table border=\"1\" class=\"dataframe\">\n",
       "  <thead>\n",
       "    <tr style=\"text-align: right;\">\n",
       "      <th></th>\n",
       "      <th>DATE</th>\n",
       "      <th>GDP</th>\n",
       "      <th>PI</th>\n",
       "      <th>PCEPILFE</th>\n",
       "      <th>GINI</th>\n",
       "      <th>RGDP</th>\n",
       "      <th>RPI</th>\n",
       "    </tr>\n",
       "  </thead>\n",
       "  <tbody>\n",
       "    <tr>\n",
       "      <th>0</th>\n",
       "      <td>1967</td>\n",
       "      <td>859.95625</td>\n",
       "      <td>665.725000</td>\n",
       "      <td>19.314333</td>\n",
       "      <td>0.397</td>\n",
       "      <td>44.524252</td>\n",
       "      <td>34.467925</td>\n",
       "    </tr>\n",
       "    <tr>\n",
       "      <th>1</th>\n",
       "      <td>1968</td>\n",
       "      <td>940.64650</td>\n",
       "      <td>730.925000</td>\n",
       "      <td>20.147000</td>\n",
       "      <td>0.386</td>\n",
       "      <td>46.689160</td>\n",
       "      <td>36.279595</td>\n",
       "    </tr>\n",
       "    <tr>\n",
       "      <th>2</th>\n",
       "      <td>1969</td>\n",
       "      <td>1017.61500</td>\n",
       "      <td>800.350000</td>\n",
       "      <td>21.086583</td>\n",
       "      <td>0.391</td>\n",
       "      <td>48.258885</td>\n",
       "      <td>37.955414</td>\n",
       "    </tr>\n",
       "    <tr>\n",
       "      <th>3</th>\n",
       "      <td>1970</td>\n",
       "      <td>1073.31050</td>\n",
       "      <td>865.066667</td>\n",
       "      <td>22.074000</td>\n",
       "      <td>0.394</td>\n",
       "      <td>48.623290</td>\n",
       "      <td>39.189393</td>\n",
       "    </tr>\n",
       "    <tr>\n",
       "      <th>4</th>\n",
       "      <td>1971</td>\n",
       "      <td>1164.84975</td>\n",
       "      <td>932.775000</td>\n",
       "      <td>23.112417</td>\n",
       "      <td>0.396</td>\n",
       "      <td>50.399306</td>\n",
       "      <td>40.358177</td>\n",
       "    </tr>\n",
       "  </tbody>\n",
       "</table>\n",
       "</div>"
      ],
      "text/plain": [
       "   DATE         GDP          PI   PCEPILFE   GINI       RGDP        RPI\n",
       "0  1967   859.95625  665.725000  19.314333  0.397  44.524252  34.467925\n",
       "1  1968   940.64650  730.925000  20.147000  0.386  46.689160  36.279595\n",
       "2  1969  1017.61500  800.350000  21.086583  0.391  48.258885  37.955414\n",
       "3  1970  1073.31050  865.066667  22.074000  0.394  48.623290  39.189393\n",
       "4  1971  1164.84975  932.775000  23.112417  0.396  50.399306  40.358177"
      ]
     },
     "execution_count": 3,
     "metadata": {},
     "output_type": "execute_result"
    }
   ],
   "source": [
    "data = pd.read_csv(DATA_DIR + \"historical_time_series.csv\")\n",
    "data[\"DATE\"] = data[\"DATE\"].str.extract(r'(\\d*)/').astype(int)\n",
    "data.head()"
   ]
  },
  {
   "cell_type": "code",
   "execution_count": 7,
   "id": "2ad60188",
   "metadata": {},
   "outputs": [
    {
     "name": "stdout",
     "output_type": "stream",
     "text": [
      "\\begin{tabular}{lrrrrrrrr}\n",
      "\\toprule\n",
      "{} &  count &         mean &          std &          min &          25\\% &          50\\% &           75\\% &           max \\\\\n",
      "\\midrule\n",
      "DATE     &   54.0 &  1993.500000 &    15.732133 &  1967.000000 &  1980.250000 &  1993.500000 &   2006.750000 &   2020.000000 \\\\\n",
      "GDP      &   54.0 &  8590.962657 &  6346.633437 &   859.956250 &  2944.741687 &  7072.897500 &  14309.566000 &  21372.582250 \\\\\n",
      "PI       &   54.0 &  7243.752314 &  5526.066567 &   665.725000 &  2394.012500 &  5802.512500 &  11862.193747 &  19627.583330 \\\\\n",
      "PCEPILFE &   54.0 &    67.276434 &    29.295847 &    19.314333 &    41.734542 &    72.066250 &     92.072792 &    113.553250 \\\\\n",
      "GINI     &   54.0 &     0.440000 &     0.032803 &     0.386000 &     0.404500 &     0.452000 &      0.467500 &      0.489000 \\\\\n",
      "RGDP     &   54.0 &   108.899876 &    45.044777 &    44.524252 &    70.354690 &    98.123482 &    152.412090 &    190.897077 \\\\\n",
      "RPI      &   54.0 &    91.009007 &    40.080154 &    34.467925 &    57.334668 &    80.504022 &    126.530499 &    172.849155 \\\\\n",
      "\\bottomrule\n",
      "\\end{tabular}\n",
      "\n"
     ]
    }
   ],
   "source": [
    "print(data.describe().T.to_latex())"
   ]
  },
  {
   "cell_type": "code",
   "execution_count": 17,
   "id": "481f0e1f",
   "metadata": {},
   "outputs": [
    {
     "data": {
      "text/html": [
       "<div>\n",
       "<style scoped>\n",
       "    .dataframe tbody tr th:only-of-type {\n",
       "        vertical-align: middle;\n",
       "    }\n",
       "\n",
       "    .dataframe tbody tr th {\n",
       "        vertical-align: top;\n",
       "    }\n",
       "\n",
       "    .dataframe thead th {\n",
       "        text-align: right;\n",
       "    }\n",
       "</style>\n",
       "<table border=\"1\" class=\"dataframe\">\n",
       "  <thead>\n",
       "    <tr style=\"text-align: right;\">\n",
       "      <th></th>\n",
       "      <th>DATE</th>\n",
       "      <th>GINI</th>\n",
       "      <th>GDP</th>\n",
       "      <th>PI</th>\n",
       "      <th>PCEPILFE</th>\n",
       "      <th>RGDP</th>\n",
       "      <th>RPI</th>\n",
       "    </tr>\n",
       "  </thead>\n",
       "  <tbody>\n",
       "    <tr>\n",
       "      <th>0</th>\n",
       "      <td>1968</td>\n",
       "      <td>0.386</td>\n",
       "      <td>0.093831</td>\n",
       "      <td>0.097938</td>\n",
       "      <td>0.043111</td>\n",
       "      <td>0.048623</td>\n",
       "      <td>0.052561</td>\n",
       "    </tr>\n",
       "    <tr>\n",
       "      <th>1</th>\n",
       "      <td>1969</td>\n",
       "      <td>0.391</td>\n",
       "      <td>0.081825</td>\n",
       "      <td>0.094982</td>\n",
       "      <td>0.046636</td>\n",
       "      <td>0.033621</td>\n",
       "      <td>0.046192</td>\n",
       "    </tr>\n",
       "    <tr>\n",
       "      <th>2</th>\n",
       "      <td>1970</td>\n",
       "      <td>0.394</td>\n",
       "      <td>0.054731</td>\n",
       "      <td>0.080860</td>\n",
       "      <td>0.046827</td>\n",
       "      <td>0.007551</td>\n",
       "      <td>0.032511</td>\n",
       "    </tr>\n",
       "    <tr>\n",
       "      <th>3</th>\n",
       "      <td>1971</td>\n",
       "      <td>0.396</td>\n",
       "      <td>0.085287</td>\n",
       "      <td>0.078269</td>\n",
       "      <td>0.047043</td>\n",
       "      <td>0.036526</td>\n",
       "      <td>0.029824</td>\n",
       "    </tr>\n",
       "    <tr>\n",
       "      <th>4</th>\n",
       "      <td>1972</td>\n",
       "      <td>0.401</td>\n",
       "      <td>0.098092</td>\n",
       "      <td>0.098291</td>\n",
       "      <td>0.032187</td>\n",
       "      <td>0.063850</td>\n",
       "      <td>0.064043</td>\n",
       "    </tr>\n",
       "  </tbody>\n",
       "</table>\n",
       "</div>"
      ],
      "text/plain": [
       "   DATE   GINI       GDP        PI  PCEPILFE      RGDP       RPI\n",
       "0  1968  0.386  0.093831  0.097938  0.043111  0.048623  0.052561\n",
       "1  1969  0.391  0.081825  0.094982  0.046636  0.033621  0.046192\n",
       "2  1970  0.394  0.054731  0.080860  0.046827  0.007551  0.032511\n",
       "3  1971  0.396  0.085287  0.078269  0.047043  0.036526  0.029824\n",
       "4  1972  0.401  0.098092  0.098291  0.032187  0.063850  0.064043"
      ]
     },
     "execution_count": 17,
     "metadata": {},
     "output_type": "execute_result"
    }
   ],
   "source": [
    "data_change = data.set_index([\"DATE\", \"GINI\"]).pct_change().dropna()\n",
    "data_change = data_change.reset_index()\n",
    "data_change.head()"
   ]
  },
  {
   "cell_type": "markdown",
   "id": "d0d36665",
   "metadata": {},
   "source": [
    "## Visualization"
   ]
  },
  {
   "cell_type": "code",
   "execution_count": 44,
   "id": "cc57950e",
   "metadata": {},
   "outputs": [
    {
     "data": {
      "image/png": "[encoded data removed]",
      "text/plain": [
       "<Figure size 648x648 with 2 Axes>"
      ]
     },
     "metadata": {
      "needs_background": "light"
     },
     "output_type": "display_data"
    }
   ],
   "source": [
    "fig,(ax1, ax2) = plt.subplots(2, 1)\n",
    "fig.set_figheight(9)\n",
    "fig.set_figwidth(9)\n",
    "\n",
    "ax1.plot(data_change.DATE, data_change.GDP * 100, label=\"GDP\")\n",
    "ax1.plot(data_change.DATE, data_change.PI * 100, label=\"Personal Income\")\n",
    "ax1.set_ylabel(\"Percent\")\n",
    "ax1.legend()\n",
    "\n",
    "ax2.plot(data_change.DATE, data_change.GINI, color=\"tab:green\", label=\"Gini Coefficient\")\n",
    "ax2.set_xlabel(\"Year\", fontsize=12)\n",
    "ax2.legend(loc=4)\n",
    "plt.show()"
   ]
  },
  {
   "cell_type": "code",
   "execution_count": null,
   "id": "e00d715c",
   "metadata": {},
   "outputs": [],
   "source": []
  },
  {
   "cell_type": "markdown",
   "id": "6e3e90af",
   "metadata": {},
   "source": [
    "## OLS Regression"
   ]
  },
  {
   "cell_type": "code",
   "execution_count": 64,
   "id": "db50aaef",
   "metadata": {},
   "outputs": [
    {
     "data": {
      "text/html": [
       "<div>\n",
       "<style scoped>\n",
       "    .dataframe tbody tr th:only-of-type {\n",
       "        vertical-align: middle;\n",
       "    }\n",
       "\n",
       "    .dataframe tbody tr th {\n",
       "        vertical-align: top;\n",
       "    }\n",
       "\n",
       "    .dataframe thead th {\n",
       "        text-align: right;\n",
       "    }\n",
       "</style>\n",
       "<table border=\"1\" class=\"dataframe\">\n",
       "  <thead>\n",
       "    <tr style=\"text-align: right;\">\n",
       "      <th></th>\n",
       "      <th>GINI</th>\n",
       "      <th>GDP</th>\n",
       "      <th>PI</th>\n",
       "      <th>PCEPILFE</th>\n",
       "      <th>RGDP</th>\n",
       "      <th>RPI</th>\n",
       "      <th>GDP*GINI</th>\n",
       "      <th>RGDP*GINI</th>\n",
       "    </tr>\n",
       "    <tr>\n",
       "      <th>DATE</th>\n",
       "      <th></th>\n",
       "      <th></th>\n",
       "      <th></th>\n",
       "      <th></th>\n",
       "      <th></th>\n",
       "      <th></th>\n",
       "      <th></th>\n",
       "      <th></th>\n",
       "    </tr>\n",
       "  </thead>\n",
       "  <tbody>\n",
       "    <tr>\n",
       "      <th>1968</th>\n",
       "      <td>0.386</td>\n",
       "      <td>0.093831</td>\n",
       "      <td>0.097938</td>\n",
       "      <td>0.043111</td>\n",
       "      <td>0.048623</td>\n",
       "      <td>0.052561</td>\n",
       "      <td>0.036219</td>\n",
       "      <td>0.018769</td>\n",
       "    </tr>\n",
       "    <tr>\n",
       "      <th>1969</th>\n",
       "      <td>0.391</td>\n",
       "      <td>0.081825</td>\n",
       "      <td>0.094982</td>\n",
       "      <td>0.046636</td>\n",
       "      <td>0.033621</td>\n",
       "      <td>0.046192</td>\n",
       "      <td>0.031994</td>\n",
       "      <td>0.013146</td>\n",
       "    </tr>\n",
       "    <tr>\n",
       "      <th>1970</th>\n",
       "      <td>0.394</td>\n",
       "      <td>0.054731</td>\n",
       "      <td>0.080860</td>\n",
       "      <td>0.046827</td>\n",
       "      <td>0.007551</td>\n",
       "      <td>0.032511</td>\n",
       "      <td>0.021564</td>\n",
       "      <td>0.002975</td>\n",
       "    </tr>\n",
       "    <tr>\n",
       "      <th>1971</th>\n",
       "      <td>0.396</td>\n",
       "      <td>0.085287</td>\n",
       "      <td>0.078269</td>\n",
       "      <td>0.047043</td>\n",
       "      <td>0.036526</td>\n",
       "      <td>0.029824</td>\n",
       "      <td>0.033774</td>\n",
       "      <td>0.014464</td>\n",
       "    </tr>\n",
       "    <tr>\n",
       "      <th>1972</th>\n",
       "      <td>0.401</td>\n",
       "      <td>0.098092</td>\n",
       "      <td>0.098291</td>\n",
       "      <td>0.032187</td>\n",
       "      <td>0.063850</td>\n",
       "      <td>0.064043</td>\n",
       "      <td>0.039335</td>\n",
       "      <td>0.025604</td>\n",
       "    </tr>\n",
       "  </tbody>\n",
       "</table>\n",
       "</div>"
      ],
      "text/plain": [
       "       GINI       GDP        PI  PCEPILFE      RGDP       RPI  GDP*GINI  \\\n",
       "DATE                                                                      \n",
       "1968  0.386  0.093831  0.097938  0.043111  0.048623  0.052561  0.036219   \n",
       "1969  0.391  0.081825  0.094982  0.046636  0.033621  0.046192  0.031994   \n",
       "1970  0.394  0.054731  0.080860  0.046827  0.007551  0.032511  0.021564   \n",
       "1971  0.396  0.085287  0.078269  0.047043  0.036526  0.029824  0.033774   \n",
       "1972  0.401  0.098092  0.098291  0.032187  0.063850  0.064043  0.039335   \n",
       "\n",
       "      RGDP*GINI  \n",
       "DATE             \n",
       "1968   0.018769  \n",
       "1969   0.013146  \n",
       "1970   0.002975  \n",
       "1971   0.014464  \n",
       "1972   0.025604  "
      ]
     },
     "execution_count": 64,
     "metadata": {},
     "output_type": "execute_result"
    }
   ],
   "source": [
    "data_change_regression = data_change.copy().iloc[:-1]\n",
    "data_change_regression[\"GDP*GINI\"] = data_change_regression[\"GDP\"] * data_change_regression[\"GINI\"]\n",
    "data_change_regression[\"RGDP*GINI\"] = data_change_regression[\"RGDP\"] * data_change_regression[\"GINI\"]\n",
    "data_change_regression.set_index(\"DATE\", inplace=True)\n",
    "data_change_regression.head()"
   ]
  },
  {
   "cell_type": "code",
   "execution_count": 63,
   "id": "fe1ec5d0",
   "metadata": {
    "scrolled": false
   },
   "outputs": [
    {
     "name": "stdout",
     "output_type": "stream",
     "text": [
      "                            OLS Regression Results                            \n",
      "==============================================================================\n",
      "Dep. Variable:                     PI   R-squared:                       0.855\n",
      "Model:                            OLS   Adj. R-squared:                  0.849\n",
      "Method:                 Least Squares   F-statistic:                     128.3\n",
      "Date:                Tue, 22 Mar 2022   Prob (F-statistic):           3.32e-20\n",
      "Time:                        19:41:27   Log-Likelihood:                 158.65\n",
      "No. Observations:                  52   AIC:                            -311.3\n",
      "Df Residuals:                      49   BIC:                            -305.5\n",
      "Df Model:                           2                                         \n",
      "Covariance Type:                  HC3                                         \n",
      "==============================================================================\n",
      "                 coef    std err          z      P>|z|      [0.025      0.975]\n",
      "------------------------------------------------------------------------------\n",
      "const          0.0096      0.012      0.805      0.421      -0.014       0.033\n",
      "GDP            1.3709      0.694      1.975      0.048       0.010       2.731\n",
      "GDP*GINI      -1.1324      1.984     -0.571      0.568      -5.021       2.756\n",
      "==============================================================================\n",
      "Omnibus:                        0.243   Durbin-Watson:                   2.190\n",
      "Prob(Omnibus):                  0.886   Jarque-Bera (JB):                0.013\n",
      "Skew:                          -0.033   Prob(JB):                        0.994\n",
      "Kurtosis:                       3.039   Cond. No.                         719.\n",
      "==============================================================================\n",
      "\n",
      "Notes:\n",
      "[1] Standard Errors are heteroscedasticity robust (HC3)\n"
     ]
    }
   ],
   "source": [
    "exog = sm.add_constant(data_change_regression[[\"GDP\", \"GDP*GINI\"]])\n",
    "model = sm.OLS(data_change_regression.PI, exog)\n",
    "res = model.fit(cov_type=\"HC3\")\n",
    "print(res.summary())"
   ]
  },
  {
   "cell_type": "code",
   "execution_count": 65,
   "id": "026bd1bf",
   "metadata": {},
   "outputs": [
    {
     "name": "stdout",
     "output_type": "stream",
     "text": [
      "                            OLS Regression Results                            \n",
      "==============================================================================\n",
      "Dep. Variable:                    RPI   R-squared:                       0.694\n",
      "Model:                            OLS   Adj. R-squared:                  0.682\n",
      "Method:                 Least Squares   F-statistic:                     32.71\n",
      "Date:                Tue, 22 Mar 2022   Prob (F-statistic):           9.49e-10\n",
      "Time:                        19:43:49   Log-Likelihood:                 162.88\n",
      "No. Observations:                  52   AIC:                            -319.8\n",
      "Df Residuals:                      49   BIC:                            -313.9\n",
      "Df Model:                           2                                         \n",
      "Covariance Type:                  HC3                                         \n",
      "==============================================================================\n",
      "                 coef    std err          z      P>|z|      [0.025      0.975]\n",
      "------------------------------------------------------------------------------\n",
      "const          0.0075      0.005      1.585      0.113      -0.002       0.017\n",
      "RGDP           0.5780      0.641      0.902      0.367      -0.678       1.834\n",
      "RGDP*GINI      0.5362      1.670      0.321      0.748      -2.736       3.808\n",
      "==============================================================================\n",
      "Omnibus:                        1.573   Durbin-Watson:                   2.125\n",
      "Prob(Omnibus):                  0.455   Jarque-Bera (JB):                1.187\n",
      "Skew:                          -0.370   Prob(JB):                        0.552\n",
      "Kurtosis:                       2.999   Cond. No.                     1.03e+03\n",
      "==============================================================================\n",
      "\n",
      "Notes:\n",
      "[1] Standard Errors are heteroscedasticity robust (HC3)\n",
      "[2] The condition number is large, 1.03e+03. This might indicate that there are\n",
      "strong multicollinearity or other numerical problems.\n"
     ]
    }
   ],
   "source": [
    "exog = sm.add_constant(data_change_regression[[\"RGDP\", \"RGDP*GINI\"]])\n",
    "model = sm.OLS(data_change_regression.RPI, exog)\n",
    "res = model.fit(cov_type=\"HC3\")\n",
    "print(res.summary())"
   ]
  },
  {
   "cell_type": "code",
   "execution_count": null,
   "id": "f14a6635",
   "metadata": {},
   "outputs": [],
   "source": []
  }
 ],
 "metadata": {
  "kernelspec": {
   "display_name": "Python 3 (ipykernel)",
   "language": "python",
   "name": "python3"
  },
  "language_info": {
   "codemirror_mode": {
    "name": "ipython",
    "version": 3
   },
   "file_extension": ".py",
   "mimetype": "text/x-python",
   "name": "python",
   "nbconvert_exporter": "python",
   "pygments_lexer": "ipython3",
   "version": "3.8.10"
  }
 },
 "nbformat": 4,
 "nbformat_minor": 5
}
