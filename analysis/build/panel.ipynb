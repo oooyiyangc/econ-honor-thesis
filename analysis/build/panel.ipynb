{
 "cells": [
  {
   "cell_type": "markdown",
   "id": "909f3575",
   "metadata": {},
   "source": [
    "# Panel Analysis with County Data"
   ]
  },
  {
   "cell_type": "code",
   "execution_count": 1,
   "id": "8027b7ee",
   "metadata": {},
   "outputs": [],
   "source": [
    "import numpy as np\n",
    "import pandas as pd\n",
    "\n",
    "import matplotlib.pyplot as plt\n",
    "import seaborn as sns\n",
    "\n",
    "import statsmodels.api as sm\n",
    "from linearmodels import PanelOLS"
   ]
  },
  {
   "cell_type": "code",
   "execution_count": 2,
   "id": "948d3935",
   "metadata": {},
   "outputs": [],
   "source": [
    "DATA_DIR = \"../data/cleaned-data/\""
   ]
  },
  {
   "cell_type": "code",
   "execution_count": 3,
   "id": "63dbb0f4",
   "metadata": {},
   "outputs": [
    {
     "data": {
      "text/html": [
       "<div>\n",
       "<style scoped>\n",
       "    .dataframe tbody tr th:only-of-type {\n",
       "        vertical-align: middle;\n",
       "    }\n",
       "\n",
       "    .dataframe tbody tr th {\n",
       "        vertical-align: top;\n",
       "    }\n",
       "\n",
       "    .dataframe thead th {\n",
       "        text-align: right;\n",
       "    }\n",
       "</style>\n",
       "<table border=\"1\" class=\"dataframe\">\n",
       "  <thead>\n",
       "    <tr style=\"text-align: right;\">\n",
       "      <th></th>\n",
       "      <th>YEAR</th>\n",
       "      <th>GEOFIPS</th>\n",
       "      <th>GINI</th>\n",
       "      <th>NUM_RETURN</th>\n",
       "      <th>NUM_EXEMPT</th>\n",
       "      <th>AGI</th>\n",
       "      <th>WAGES_SALARIES</th>\n",
       "      <th>DIVIDENDS</th>\n",
       "      <th>INTEREST</th>\n",
       "      <th>TAXABLE_TOTAL</th>\n",
       "    </tr>\n",
       "  </thead>\n",
       "  <tbody>\n",
       "    <tr>\n",
       "      <th>0</th>\n",
       "      <td>1989</td>\n",
       "      <td>1001</td>\n",
       "      <td>0.400131</td>\n",
       "      <td>13674.0</td>\n",
       "      <td>31869.0</td>\n",
       "      <td>333060.0</td>\n",
       "      <td>279230.0</td>\n",
       "      <td>3115.0</td>\n",
       "      <td>13269.0</td>\n",
       "      <td>295614.0</td>\n",
       "    </tr>\n",
       "    <tr>\n",
       "      <th>1</th>\n",
       "      <td>1989</td>\n",
       "      <td>1003</td>\n",
       "      <td>0.425340</td>\n",
       "      <td>39202.0</td>\n",
       "      <td>86819.0</td>\n",
       "      <td>957370.0</td>\n",
       "      <td>673040.0</td>\n",
       "      <td>24108.0</td>\n",
       "      <td>82778.0</td>\n",
       "      <td>779926.0</td>\n",
       "    </tr>\n",
       "    <tr>\n",
       "      <th>2</th>\n",
       "      <td>1989</td>\n",
       "      <td>1005</td>\n",
       "      <td>0.480382</td>\n",
       "      <td>9367.0</td>\n",
       "      <td>21385.0</td>\n",
       "      <td>193510.0</td>\n",
       "      <td>153190.0</td>\n",
       "      <td>2729.0</td>\n",
       "      <td>12946.0</td>\n",
       "      <td>168865.0</td>\n",
       "    </tr>\n",
       "    <tr>\n",
       "      <th>3</th>\n",
       "      <td>1989</td>\n",
       "      <td>1007</td>\n",
       "      <td>0.452399</td>\n",
       "      <td>6347.0</td>\n",
       "      <td>15087.0</td>\n",
       "      <td>129680.0</td>\n",
       "      <td>107400.0</td>\n",
       "      <td>924.0</td>\n",
       "      <td>5794.0</td>\n",
       "      <td>114118.0</td>\n",
       "    </tr>\n",
       "    <tr>\n",
       "      <th>4</th>\n",
       "      <td>1989</td>\n",
       "      <td>1009</td>\n",
       "      <td>0.419520</td>\n",
       "      <td>13270.0</td>\n",
       "      <td>31010.0</td>\n",
       "      <td>294430.0</td>\n",
       "      <td>241690.0</td>\n",
       "      <td>1984.0</td>\n",
       "      <td>14595.0</td>\n",
       "      <td>258269.0</td>\n",
       "    </tr>\n",
       "  </tbody>\n",
       "</table>\n",
       "</div>"
      ],
      "text/plain": [
       "   YEAR  GEOFIPS      GINI  NUM_RETURN  NUM_EXEMPT       AGI  WAGES_SALARIES  \\\n",
       "0  1989     1001  0.400131     13674.0     31869.0  333060.0        279230.0   \n",
       "1  1989     1003  0.425340     39202.0     86819.0  957370.0        673040.0   \n",
       "2  1989     1005  0.480382      9367.0     21385.0  193510.0        153190.0   \n",
       "3  1989     1007  0.452399      6347.0     15087.0  129680.0        107400.0   \n",
       "4  1989     1009  0.419520     13270.0     31010.0  294430.0        241690.0   \n",
       "\n",
       "   DIVIDENDS  INTEREST  TAXABLE_TOTAL  \n",
       "0     3115.0   13269.0       295614.0  \n",
       "1    24108.0   82778.0       779926.0  \n",
       "2     2729.0   12946.0       168865.0  \n",
       "3      924.0    5794.0       114118.0  \n",
       "4     1984.0   14595.0       258269.0  "
      ]
     },
     "execution_count": 3,
     "metadata": {},
     "output_type": "execute_result"
    }
   ],
   "source": [
    "data = pd.read_csv(DATA_DIR + \"countyincome_gini_const.csv\")\n",
    "data.head()"
   ]
  },
  {
   "cell_type": "code",
   "execution_count": 52,
   "id": "f17a0a2f",
   "metadata": {},
   "outputs": [
    {
     "data": {
      "image/png": "[encoded data removed]",
      "text/plain": [
       "<Figure size 648x648 with 2 Axes>"
      ]
     },
     "metadata": {
      "needs_background": "light"
     },
     "output_type": "display_data"
    }
   ],
   "source": [
    "data_mean_by_year = data.groupby(\"YEAR\")[[\"WAGES_SALARIES\", \"DIVIDENDS\", \"INTEREST\", \"TAXABLE_TOTAL\"]].sum()\n",
    "\n",
    "fig,(ax1, ax2) = plt.subplots(2, 1)\n",
    "fig.set_figheight(9)\n",
    "fig.set_figwidth(9)\n",
    "# Plot x-labels, y-label and data\n",
    "ax1.plot([], [], color = \"tab:blue\",\n",
    "         label ='Wages and Salaries')\n",
    "ax1.plot([], [], color = \"tab:orange\",\n",
    "         label ='Dividends')\n",
    "ax1.plot([], [], color = \"tab:green\",\n",
    "         label ='Interests')\n",
    "ax1.stackplot(data_mean_by_year.index, data_mean_by_year[\"WAGES_SALARIES\"], data_mean_by_year[\"DIVIDENDS\"], data_mean_by_year[\"INTEREST\"])\n",
    "ax1.set_ylabel(\"Dollar (Thousand)\")\n",
    "ax1.legend(loc=(1.02,0.78))\n",
    "\n",
    "# Plot x-labels, y-label and data\n",
    "ax2.plot([], [], color = \"tab:blue\",\n",
    "         label ='Wages and Salaries')\n",
    "ax2.plot([], [], color = \"tab:orange\",\n",
    "         label ='Dividends')\n",
    "ax2.plot([], [], color = \"tab:green\",\n",
    "         label ='Interests')\n",
    "\n",
    "WAGES_SALARIES = data_mean_by_year[\"WAGES_SALARIES\"] / data_mean_by_year[\"TAXABLE_TOTAL\"] * 100, \n",
    "DIVIDENDS = data_mean_by_year[\"DIVIDENDS\"] / data_mean_by_year[\"TAXABLE_TOTAL\"] * 100, \n",
    "INTEREST = data_mean_by_year[\"INTEREST\"] / data_mean_by_year[\"TAXABLE_TOTAL\"] * 100\n",
    "\n",
    "ax2.stackplot(data_mean_by_year.index, WAGES_SALARIES, DIVIDENDS, INTEREST)\n",
    "ax2.set_ylabel(\"Percent\")\n",
    "ax2.legend(loc=(1.02,0.78))\n",
    "ax2.set_ylim(70, 100)\n",
    "plt.show()"
   ]
  },
  {
   "cell_type": "markdown",
   "id": "70fbd3ab",
   "metadata": {},
   "source": [
    "## Prepare Data"
   ]
  },
  {
   "cell_type": "code",
   "execution_count": 4,
   "id": "fd5e501e",
   "metadata": {},
   "outputs": [],
   "source": [
    "aggregate = pd.DataFrame(data.groupby(\"YEAR\")[\"TAXABLE_TOTAL\"].sum()).reset_index()\n",
    "aggregate.rename(columns={\"TAXABLE_TOTAL\": \"AGGREGATE_TAXABLE_TOTAL\"}, inplace=True)"
   ]
  },
  {
   "cell_type": "code",
   "execution_count": 5,
   "id": "099d58f5",
   "metadata": {},
   "outputs": [],
   "source": [
    "data = data.merge(aggregate, left_on=\"YEAR\", right_on=\"YEAR\")"
   ]
  },
  {
   "cell_type": "code",
   "execution_count": 6,
   "id": "d0a424db",
   "metadata": {},
   "outputs": [],
   "source": [
    "data_change = data.sort_values(by=[\"GEOFIPS\", \"YEAR\"], ascending=True).set_index([\"YEAR\", \"GEOFIPS\", \"GINI\"]).pct_change().reset_index()\n",
    "data_change = data_change[data_change[\"YEAR\"] > 1989]"
   ]
  },
  {
   "cell_type": "code",
   "execution_count": 7,
   "id": "e741b956",
   "metadata": {},
   "outputs": [
    {
     "data": {
      "text/html": [
       "<div>\n",
       "<style scoped>\n",
       "    .dataframe tbody tr th:only-of-type {\n",
       "        vertical-align: middle;\n",
       "    }\n",
       "\n",
       "    .dataframe tbody tr th {\n",
       "        vertical-align: top;\n",
       "    }\n",
       "\n",
       "    .dataframe thead th {\n",
       "        text-align: right;\n",
       "    }\n",
       "</style>\n",
       "<table border=\"1\" class=\"dataframe\">\n",
       "  <thead>\n",
       "    <tr style=\"text-align: right;\">\n",
       "      <th></th>\n",
       "      <th>YEAR</th>\n",
       "      <th>GEOFIPS</th>\n",
       "      <th>GINI</th>\n",
       "      <th>NUM_RETURN</th>\n",
       "      <th>NUM_EXEMPT</th>\n",
       "      <th>AGI</th>\n",
       "      <th>WAGES_SALARIES</th>\n",
       "      <th>DIVIDENDS</th>\n",
       "      <th>INTEREST</th>\n",
       "      <th>TAXABLE_TOTAL</th>\n",
       "      <th>AGGREGATE_TAXABLE_TOTAL</th>\n",
       "    </tr>\n",
       "  </thead>\n",
       "  <tbody>\n",
       "    <tr>\n",
       "      <th>1</th>\n",
       "      <td>1990</td>\n",
       "      <td>1001</td>\n",
       "      <td>0.400131</td>\n",
       "      <td>-5.784701</td>\n",
       "      <td>-1.186106</td>\n",
       "      <td>4.633399</td>\n",
       "      <td>5.389822</td>\n",
       "      <td>-22.696629</td>\n",
       "      <td>2.170473</td>\n",
       "      <td>4.949360</td>\n",
       "      <td>-12.328394</td>\n",
       "    </tr>\n",
       "    <tr>\n",
       "      <th>2</th>\n",
       "      <td>1991</td>\n",
       "      <td>1001</td>\n",
       "      <td>0.400131</td>\n",
       "      <td>2.708996</td>\n",
       "      <td>2.638849</td>\n",
       "      <td>7.234312</td>\n",
       "      <td>6.115604</td>\n",
       "      <td>19.144518</td>\n",
       "      <td>0.221288</td>\n",
       "      <td>5.959161</td>\n",
       "      <td>1.923938</td>\n",
       "    </tr>\n",
       "    <tr>\n",
       "      <th>3</th>\n",
       "      <td>1992</td>\n",
       "      <td>1001</td>\n",
       "      <td>0.400131</td>\n",
       "      <td>1.655079</td>\n",
       "      <td>1.738754</td>\n",
       "      <td>7.157556</td>\n",
       "      <td>7.136613</td>\n",
       "      <td>-0.871384</td>\n",
       "      <td>-14.381394</td>\n",
       "      <td>6.177354</td>\n",
       "      <td>3.807704</td>\n",
       "    </tr>\n",
       "    <tr>\n",
       "      <th>4</th>\n",
       "      <td>1993</td>\n",
       "      <td>1001</td>\n",
       "      <td>0.400131</td>\n",
       "      <td>3.940227</td>\n",
       "      <td>3.396789</td>\n",
       "      <td>5.995490</td>\n",
       "      <td>6.145031</td>\n",
       "      <td>15.787623</td>\n",
       "      <td>-14.690965</td>\n",
       "      <td>5.529166</td>\n",
       "      <td>2.022899</td>\n",
       "    </tr>\n",
       "    <tr>\n",
       "      <th>5</th>\n",
       "      <td>1994</td>\n",
       "      <td>1001</td>\n",
       "      <td>0.400131</td>\n",
       "      <td>3.018382</td>\n",
       "      <td>1.911708</td>\n",
       "      <td>10.498045</td>\n",
       "      <td>7.161483</td>\n",
       "      <td>7.045247</td>\n",
       "      <td>1.168884</td>\n",
       "      <td>6.998987</td>\n",
       "      <td>4.347252</td>\n",
       "    </tr>\n",
       "  </tbody>\n",
       "</table>\n",
       "</div>"
      ],
      "text/plain": [
       "   YEAR  GEOFIPS      GINI  NUM_RETURN  NUM_EXEMPT        AGI  WAGES_SALARIES  \\\n",
       "1  1990     1001  0.400131   -5.784701   -1.186106   4.633399        5.389822   \n",
       "2  1991     1001  0.400131    2.708996    2.638849   7.234312        6.115604   \n",
       "3  1992     1001  0.400131    1.655079    1.738754   7.157556        7.136613   \n",
       "4  1993     1001  0.400131    3.940227    3.396789   5.995490        6.145031   \n",
       "5  1994     1001  0.400131    3.018382    1.911708  10.498045        7.161483   \n",
       "\n",
       "   DIVIDENDS   INTEREST  TAXABLE_TOTAL  AGGREGATE_TAXABLE_TOTAL  \n",
       "1 -22.696629   2.170473       4.949360               -12.328394  \n",
       "2  19.144518   0.221288       5.959161                 1.923938  \n",
       "3  -0.871384 -14.381394       6.177354                 3.807704  \n",
       "4  15.787623 -14.690965       5.529166                 2.022899  \n",
       "5   7.045247   1.168884       6.998987                 4.347252  "
      ]
     },
     "execution_count": 7,
     "metadata": {},
     "output_type": "execute_result"
    }
   ],
   "source": [
    "cols = [\"NUM_RETURN\", \"NUM_EXEMPT\", \"AGI\", \"WAGES_SALARIES\", \"DIVIDENDS\", \"INTEREST\", \"TAXABLE_TOTAL\", \"AGGREGATE_TAXABLE_TOTAL\"]\n",
    "for col in cols:\n",
    "    data_change[col] = data_change[col].map(lambda x: x * 100)\n",
    "data_change.head()"
   ]
  },
  {
   "cell_type": "markdown",
   "id": "dab716ef",
   "metadata": {},
   "source": [
    "## Evaluate PanelOLS"
   ]
  },
  {
   "cell_type": "code",
   "execution_count": 8,
   "id": "fd783cb9",
   "metadata": {},
   "outputs": [],
   "source": [
    "def evaluate(data_change, y=\"TAXABLE_TOTAL\", cutoff=0.5, time_effects=True, entity_effects=True, show_result=True):\n",
    "    gini_ranking = np.array(data_change.groupby(\"GEOFIPS\")[\"GINI\"].mean().sort_values().index)\n",
    "    high_gini_counties = gini_ranking[round(len(gini_ranking) * cutoff):]\n",
    "    low_gini_counties = gini_ranking[:round(len(gini_ranking) * cutoff)]\n",
    "    \n",
    "    df_high_gini = data_change[data_change[\"GEOFIPS\"].isin(high_gini_counties)].copy()\n",
    "    df_high_gini[\"HIGH_GINI\"] = np.ones(df_high_gini.shape[0])\n",
    "    df_low_gini = data_change[data_change[\"GEOFIPS\"].isin(low_gini_counties)].copy()\n",
    "    df_low_gini[\"HIGH_GINI\"] = np.zeros(df_low_gini.shape[0])\n",
    "    \n",
    "    df_merged = pd.concat([df_high_gini, df_low_gini])\n",
    "    df_merged[\"AGGREGATE_TAXABLE_TOTAL*HIGH_GINI\"] = df_merged[\"AGGREGATE_TAXABLE_TOTAL\"] * df_merged[\"HIGH_GINI\"]\n",
    "    df_merged.set_index([\"YEAR\", \"GEOFIPS\"], inplace=True)\n",
    "    df_merged.replace([np.inf, -np.inf], np.nan, inplace=True)\n",
    "    df_merged.dropna(inplace=True)\n",
    "    \n",
    "    exog = sm.add_constant(df_merged[[\"AGGREGATE_TAXABLE_TOTAL*HIGH_GINI\"]])\n",
    "    model = PanelOLS(df_merged[y], exog, time_effects=time_effects, entity_effects=entity_effects)\n",
    "    res = model.fit(cov_type=\"robust\")\n",
    "    if show_result:\n",
    "        print(res)\n",
    "    \n",
    "    return [res.params[1], res.std_errors[1]]"
   ]
  },
  {
   "cell_type": "code",
   "execution_count": null,
   "id": "720de5e3",
   "metadata": {},
   "outputs": [],
   "source": []
  },
  {
   "cell_type": "markdown",
   "id": "f2ed0316",
   "metadata": {},
   "source": [
    "### All"
   ]
  },
  {
   "cell_type": "code",
   "execution_count": 9,
   "id": "0c147a68",
   "metadata": {},
   "outputs": [
    {
     "name": "stdout",
     "output_type": "stream",
     "text": [
      "                          PanelOLS Estimation Summary                           \n",
      "================================================================================\n",
      "Dep. Variable:          TAXABLE_TOTAL   R-squared:                     7.778e-05\n",
      "Estimator:                   PanelOLS   R-squared (Between):             -0.1858\n",
      "No. Observations:               91873   R-squared (Within):               0.0001\n",
      "Date:                Wed, Mar 23 2022   R-squared (Overall):             -0.0007\n",
      "Time:                        12:21:13   Log-likelihood                -4.874e+05\n",
      "Cov. Estimator:                Robust                                           \n",
      "                                        F-statistic:                      6.9055\n",
      "Entities:                          30   P-value                           0.0086\n",
      "Avg Obs:                       3062.4   Distribution:                 F(1,88780)\n",
      "Min Obs:                       3060.0                                           \n",
      "Max Obs:                       3063.0   F-statistic (robust):             14.631\n",
      "                                        P-value                           0.0001\n",
      "Time periods:                    3063   Distribution:                 F(1,88780)\n",
      "Avg Obs:                       29.994                                           \n",
      "Min Obs:                       21.000                                           \n",
      "Max Obs:                       30.000                                           \n",
      "                                                                                \n",
      "                                         Parameter Estimates                                         \n",
      "=====================================================================================================\n",
      "                                   Parameter  Std. Err.     T-stat    P-value    Lower CI    Upper CI\n",
      "-----------------------------------------------------------------------------------------------------\n",
      "const                                 4.3835     0.2381     18.408     0.0000      3.9168      4.8503\n",
      "AGGREGATE_TAXABLE_TOTAL*HIGH_GINI    -0.2134     0.0558    -3.8251     0.0001     -0.3227     -0.1040\n",
      "=====================================================================================================\n",
      "\n",
      "F-test for Poolability: 1.0993\n",
      "P-value: 0.0001\n",
      "Distribution: F(3091,88780)\n",
      "\n",
      "Included effects: Entity, Time\n"
     ]
    },
    {
     "data": {
      "text/plain": [
       "[-0.21335224803891958, 0.055777069986159694]"
      ]
     },
     "execution_count": 9,
     "metadata": {},
     "output_type": "execute_result"
    }
   ],
   "source": [
    "evaluate(data_change)"
   ]
  },
  {
   "cell_type": "code",
   "execution_count": 10,
   "id": "a344affd",
   "metadata": {},
   "outputs": [
    {
     "name": "stdout",
     "output_type": "stream",
     "text": [
      "                          PanelOLS Estimation Summary                           \n",
      "================================================================================\n",
      "Dep. Variable:          TAXABLE_TOTAL   R-squared:                        0.0001\n",
      "Estimator:                   PanelOLS   R-squared (Between):             -0.1807\n",
      "No. Observations:               91873   R-squared (Within):               0.0001\n",
      "Date:                Wed, Mar 23 2022   R-squared (Overall):             -0.0006\n",
      "Time:                        12:21:13   Log-likelihood                 -4.89e+05\n",
      "Cov. Estimator:                Robust                                           \n",
      "                                        F-statistic:                      11.406\n",
      "Entities:                          30   P-value                           0.0007\n",
      "Avg Obs:                       3062.4   Distribution:                 F(1,91842)\n",
      "Min Obs:                       3060.0                                           \n",
      "Max Obs:                       3063.0   F-statistic (robust):             9.2519\n",
      "                                        P-value                           0.0024\n",
      "Time periods:                    3063   Distribution:                 F(1,91842)\n",
      "Avg Obs:                       29.994                                           \n",
      "Min Obs:                       21.000                                           \n",
      "Max Obs:                       30.000                                           \n",
      "                                                                                \n",
      "                                         Parameter Estimates                                         \n",
      "=====================================================================================================\n",
      "                                   Parameter  Std. Err.     T-stat    P-value    Lower CI    Upper CI\n",
      "-----------------------------------------------------------------------------------------------------\n",
      "const                                 4.3743     0.2711     16.136     0.0000      3.8430      4.9056\n",
      "AGGREGATE_TAXABLE_TOTAL*HIGH_GINI    -0.2080     0.0684    -3.0417     0.0024     -0.3421     -0.0740\n",
      "=====================================================================================================\n",
      "\n",
      "F-test for Poolability: 12.927\n",
      "P-value: 0.0000\n",
      "Distribution: F(29,91842)\n",
      "\n",
      "Included effects: Entity\n"
     ]
    },
    {
     "data": {
      "text/plain": [
       "[-0.2080295497151641, 0.06839269526354723]"
      ]
     },
     "execution_count": 10,
     "metadata": {},
     "output_type": "execute_result"
    }
   ],
   "source": [
    "evaluate(data_change, time_effects=False, entity_effects=True)"
   ]
  },
  {
   "cell_type": "code",
   "execution_count": 11,
   "id": "3968ac1d",
   "metadata": {},
   "outputs": [
    {
     "name": "stdout",
     "output_type": "stream",
     "text": [
      "                          PanelOLS Estimation Summary                           \n",
      "================================================================================\n",
      "Dep. Variable:          TAXABLE_TOTAL   R-squared:                        0.0005\n",
      "Estimator:                   PanelOLS   R-squared (Between):              0.2491\n",
      "No. Observations:               91873   R-squared (Within):              -0.0009\n",
      "Date:                Wed, Mar 23 2022   R-squared (Overall):              0.0001\n",
      "Time:                        12:21:13   Log-likelihood                -4.876e+05\n",
      "Cov. Estimator:                Robust                                           \n",
      "                                        F-statistic:                      46.944\n",
      "Entities:                          30   P-value                           0.0000\n",
      "Avg Obs:                       3062.4   Distribution:                 F(1,88809)\n",
      "Min Obs:                       3060.0                                           \n",
      "Max Obs:                       3063.0   F-statistic (robust):             308.16\n",
      "                                        P-value                           0.0000\n",
      "Time periods:                    3063   Distribution:                 F(1,88809)\n",
      "Avg Obs:                       29.994                                           \n",
      "Min Obs:                       21.000                                           \n",
      "Max Obs:                       30.000                                           \n",
      "                                                                                \n",
      "                                         Parameter Estimates                                         \n",
      "=====================================================================================================\n",
      "                                   Parameter  Std. Err.     T-stat    P-value    Lower CI    Upper CI\n",
      "-----------------------------------------------------------------------------------------------------\n",
      "const                                 3.3335     0.1627     20.489     0.0000      3.0146      3.6524\n",
      "AGGREGATE_TAXABLE_TOTAL*HIGH_GINI     0.3941     0.0225     17.555     0.0000      0.3501      0.4381\n",
      "=====================================================================================================\n",
      "\n",
      "F-test for Poolability: 0.9932\n",
      "P-value: 0.6003\n",
      "Distribution: F(3062,88809)\n",
      "\n",
      "Included effects: Time\n"
     ]
    },
    {
     "data": {
      "text/plain": [
       "[0.3941107092628582, 0.022450628706297774]"
      ]
     },
     "execution_count": 11,
     "metadata": {},
     "output_type": "execute_result"
    }
   ],
   "source": [
    "evaluate(data_change, time_effects=True, entity_effects=False)"
   ]
  },
  {
   "cell_type": "code",
   "execution_count": 12,
   "id": "38d9ff0d",
   "metadata": {},
   "outputs": [
    {
     "name": "stdout",
     "output_type": "stream",
     "text": [
      "                          PanelOLS Estimation Summary                           \n",
      "================================================================================\n",
      "Dep. Variable:          TAXABLE_TOTAL   R-squared:                        0.0002\n",
      "Estimator:                   PanelOLS   R-squared (Between):              0.1626\n",
      "No. Observations:               91873   R-squared (Within):              -0.0004\n",
      "Date:                Wed, Mar 23 2022   R-squared (Overall):              0.0002\n",
      "Time:                        12:21:14   Log-likelihood                -4.891e+05\n",
      "Cov. Estimator:                Robust                                           \n",
      "                                        F-statistic:                      22.638\n",
      "Entities:                          30   P-value                           0.0000\n",
      "Avg Obs:                       3062.4   Distribution:                 F(1,91871)\n",
      "Min Obs:                       3060.0                                           \n",
      "Max Obs:                       3063.0   F-statistic (robust):             52.641\n",
      "                                        P-value                           0.0000\n",
      "Time periods:                    3063   Distribution:                 F(1,91871)\n",
      "Avg Obs:                       29.994                                           \n",
      "Min Obs:                       21.000                                           \n",
      "Max Obs:                       30.000                                           \n",
      "                                                                                \n",
      "                                         Parameter Estimates                                         \n",
      "=====================================================================================================\n",
      "                                   Parameter  Std. Err.     T-stat    P-value    Lower CI    Upper CI\n",
      "-----------------------------------------------------------------------------------------------------\n",
      "const                                 3.6104     0.2038     17.714     0.0000      3.2109      4.0098\n",
      "AGGREGATE_TAXABLE_TOTAL*HIGH_GINI     0.2339     0.0322     7.2554     0.0000      0.1707      0.2971\n",
      "=====================================================================================================\n",
      "\n",
      "\n"
     ]
    },
    {
     "data": {
      "text/plain": [
       "[0.23393263548450172, 0.03224252005398265]"
      ]
     },
     "execution_count": 12,
     "metadata": {},
     "output_type": "execute_result"
    }
   ],
   "source": [
    "evaluate(data_change, time_effects=False, entity_effects=False)"
   ]
  },
  {
   "cell_type": "markdown",
   "id": "c01c85fd",
   "metadata": {},
   "source": [
    "### Wages and Salaries"
   ]
  },
  {
   "cell_type": "code",
   "execution_count": 55,
   "id": "d0cc77ab",
   "metadata": {},
   "outputs": [
    {
     "name": "stdout",
     "output_type": "stream",
     "text": [
      "                          PanelOLS Estimation Summary                           \n",
      "================================================================================\n",
      "Dep. Variable:         WAGES_SALARIES   R-squared:                        0.0001\n",
      "Estimator:                   PanelOLS   R-squared (Between):             -0.1454\n",
      "No. Observations:               91873   R-squared (Within):               0.0002\n",
      "Date:                Wed, Mar 23 2022   R-squared (Overall):             -0.0005\n",
      "Time:                        12:50:26   Log-likelihood                -5.464e+05\n",
      "Cov. Estimator:                Robust                                           \n",
      "                                        F-statistic:                      9.3640\n",
      "Entities:                          30   P-value                           0.0022\n",
      "Avg Obs:                       3062.4   Distribution:                 F(1,88780)\n",
      "Min Obs:                       3060.0                                           \n",
      "Max Obs:                       3063.0   F-statistic (robust):             7.9867\n",
      "                                        P-value                           0.0047\n",
      "Time periods:                    3063   Distribution:                 F(1,88780)\n",
      "Avg Obs:                       29.994                                           \n",
      "Min Obs:                       21.000                                           \n",
      "Max Obs:                       30.000                                           \n",
      "                                                                                \n",
      "                                         Parameter Estimates                                         \n",
      "=====================================================================================================\n",
      "                                   Parameter  Std. Err.     T-stat    P-value    Lower CI    Upper CI\n",
      "-----------------------------------------------------------------------------------------------------\n",
      "const                                 5.9585     0.5166     11.535     0.0000      4.9461      6.9710\n",
      "AGGREGATE_TAXABLE_TOTAL*HIGH_GINI    -0.4721     0.1670    -2.8261     0.0047     -0.7995     -0.1447\n",
      "=====================================================================================================\n",
      "\n",
      "F-test for Poolability: 1.1086\n",
      "P-value: 0.0000\n",
      "Distribution: F(3091,88780)\n",
      "\n",
      "Included effects: Entity, Time\n"
     ]
    },
    {
     "data": {
      "text/plain": [
       "[-0.4720720328813814, 0.16704155029076628]"
      ]
     },
     "execution_count": 55,
     "metadata": {},
     "output_type": "execute_result"
    }
   ],
   "source": [
    "evaluate(data_change, y=\"WAGES_SALARIES\")"
   ]
  },
  {
   "cell_type": "markdown",
   "id": "b42c718b",
   "metadata": {},
   "source": [
    "### Dividends"
   ]
  },
  {
   "cell_type": "code",
   "execution_count": 54,
   "id": "f91d57f1",
   "metadata": {},
   "outputs": [
    {
     "name": "stdout",
     "output_type": "stream",
     "text": [
      "                          PanelOLS Estimation Summary                           \n",
      "================================================================================\n",
      "Dep. Variable:              DIVIDENDS   R-squared:                     2.084e-05\n",
      "Estimator:                   PanelOLS   R-squared (Between):              0.0235\n",
      "No. Observations:               91873   R-squared (Within):            6.397e-05\n",
      "Date:                Wed, Mar 23 2022   R-squared (Overall):              0.0011\n",
      "Time:                        12:49:40   Log-likelihood                -5.004e+05\n",
      "Cov. Estimator:                Robust                                           \n",
      "                                        F-statistic:                      1.8502\n",
      "Entities:                          30   P-value                           0.1738\n",
      "Avg Obs:                       3062.4   Distribution:                 F(1,88780)\n",
      "Min Obs:                       3060.0                                           \n",
      "Max Obs:                       3063.0   F-statistic (robust):             2.1489\n",
      "                                        P-value                           0.1427\n",
      "Time periods:                    3063   Distribution:                 F(1,88780)\n",
      "Avg Obs:                       29.994                                           \n",
      "Min Obs:                       21.000                                           \n",
      "Max Obs:                       30.000                                           \n",
      "                                                                                \n",
      "                                         Parameter Estimates                                         \n",
      "=====================================================================================================\n",
      "                                   Parameter  Std. Err.     T-stat    P-value    Lower CI    Upper CI\n",
      "-----------------------------------------------------------------------------------------------------\n",
      "const                                 6.3970     0.2290     27.931     0.0000      5.9481      6.8459\n",
      "AGGREGATE_TAXABLE_TOTAL*HIGH_GINI     0.1273     0.0868     1.4659     0.1427     -0.0429      0.2974\n",
      "=====================================================================================================\n",
      "\n",
      "F-test for Poolability: 2.1237\n",
      "P-value: 0.0000\n",
      "Distribution: F(3091,88780)\n",
      "\n",
      "Included effects: Entity, Time\n"
     ]
    },
    {
     "data": {
      "text/plain": [
       "[0.12725966312610384, 0.08681358004485648]"
      ]
     },
     "execution_count": 54,
     "metadata": {},
     "output_type": "execute_result"
    }
   ],
   "source": [
    "evaluate(data_change, y=\"DIVIDENDS\")"
   ]
  },
  {
   "cell_type": "markdown",
   "id": "06451c65",
   "metadata": {},
   "source": [
    "### Interest"
   ]
  },
  {
   "cell_type": "code",
   "execution_count": 56,
   "id": "04051cbe",
   "metadata": {},
   "outputs": [
    {
     "name": "stdout",
     "output_type": "stream",
     "text": [
      "                          PanelOLS Estimation Summary                           \n",
      "================================================================================\n",
      "Dep. Variable:               INTEREST   R-squared:                      6.06e-06\n",
      "Estimator:                   PanelOLS   R-squared (Between):              0.0132\n",
      "No. Observations:               91873   R-squared (Within):            1.618e-05\n",
      "Date:                Wed, Mar 23 2022   R-squared (Overall):            7.98e-05\n",
      "Time:                        12:50:48   Log-likelihood                -6.218e+05\n",
      "Cov. Estimator:                Robust                                           \n",
      "                                        F-statistic:                      0.5380\n",
      "Entities:                          30   P-value                           0.4633\n",
      "Avg Obs:                       3062.4   Distribution:                 F(1,88780)\n",
      "Min Obs:                       3060.0                                           \n",
      "Max Obs:                       3063.0   F-statistic (robust):             1.9096\n",
      "                                        P-value                           0.1670\n",
      "Time periods:                    3063   Distribution:                 F(1,88780)\n",
      "Avg Obs:                       29.994                                           \n",
      "Min Obs:                       21.000                                           \n",
      "Max Obs:                       30.000                                           \n",
      "                                                                                \n",
      "                                         Parameter Estimates                                         \n",
      "=====================================================================================================\n",
      "                                   Parameter  Std. Err.     T-stat    P-value    Lower CI    Upper CI\n",
      "-----------------------------------------------------------------------------------------------------\n",
      "const                                -2.0035     0.9981    -2.0073     0.0447     -3.9598     -0.0472\n",
      "AGGREGATE_TAXABLE_TOTAL*HIGH_GINI     0.2572     0.1861     1.3819     0.1670     -0.1076      0.6219\n",
      "=====================================================================================================\n",
      "\n",
      "F-test for Poolability: 1.1278\n",
      "P-value: 0.0000\n",
      "Distribution: F(3091,88780)\n",
      "\n",
      "Included effects: Entity, Time\n"
     ]
    },
    {
     "data": {
      "text/plain": [
       "[0.25717170504213993, 0.18610158109804079]"
      ]
     },
     "execution_count": 56,
     "metadata": {},
     "output_type": "execute_result"
    }
   ],
   "source": [
    "evaluate(data_change, y=\"INTEREST\")"
   ]
  },
  {
   "cell_type": "markdown",
   "id": "4f5e2876",
   "metadata": {},
   "source": [
    "## Trend over time"
   ]
  },
  {
   "cell_type": "code",
   "execution_count": 57,
   "id": "a7cfc2c3",
   "metadata": {},
   "outputs": [],
   "source": [
    "def plot_trend_over_time(y=\"TAXABLE_TOTAL\", interval=10, time_effects=True, entity_effects=True):\n",
    "    coeffs = []\n",
    "    stds = []\n",
    "    for year in range(1989, 2010):\n",
    "        data_subset = data_change[(data_change[\"YEAR\"] >= year) & (data_change[\"YEAR\"] <= year+10)]\n",
    "        coeff, std = evaluate(data_subset, y=y, cutoff=0.5, time_effects=time_effects, entity_effects=entity_effects, show_result=False)\n",
    "        coeffs.append(coeff)\n",
    "        stds.append(std)\n",
    "    # Matplotlib plot with custom error band\n",
    "\n",
    "    # Define variables to plot\n",
    "    x = np.arange(1989+interval//2, 2020-interval+interval//2)\n",
    "\n",
    "    # Compute upper and lower bounds using chosen uncertainty measure: here\n",
    "    # it is a fraction of the standard deviation of measurements at each\n",
    "    # time point based on the unbiased sample variance\n",
    "    lower = np.array(coeffs) - np.array(stds)\n",
    "    upper = np.array(coeffs) + np.array(stds)\n",
    "\n",
    "    # Draw plot with error band and extra formatting to match seaborn style\n",
    "    fig, ax = plt.subplots(figsize=(9,5))\n",
    "    ax.plot(x, np.array(coeffs))\n",
    "    ax.plot(x, lower, color='tab:blue', alpha=0.1)\n",
    "    ax.plot(x, upper, color='tab:blue', alpha=0.1)\n",
    "    ax.fill_between(x, lower, upper, alpha=0.2)\n",
    "    ax.set_xticks(np.arange(1989+interval//2, 2020-interval+interval//2, 2))\n",
    "    ax.set_xlabel('Year')\n",
    "    ax.set_ylabel('Estimate')\n",
    "    plt.show()"
   ]
  },
  {
   "cell_type": "code",
   "execution_count": 58,
   "id": "7637c4a9",
   "metadata": {},
   "outputs": [
    {
     "data": {
      "image/png": "[encoded data removed]",
      "text/plain": [
       "<Figure size 648x360 with 1 Axes>"
      ]
     },
     "metadata": {
      "needs_background": "light"
     },
     "output_type": "display_data"
    }
   ],
   "source": [
    "plot_trend_over_time()"
   ]
  },
  {
   "cell_type": "code",
   "execution_count": 59,
   "id": "3e2983fa",
   "metadata": {},
   "outputs": [
    {
     "data": {
      "image/png": "[encoded data removed]",
      "text/plain": [
       "<Figure size 648x360 with 1 Axes>"
      ]
     },
     "metadata": {
      "needs_background": "light"
     },
     "output_type": "display_data"
    }
   ],
   "source": [
    "plot_trend_over_time(y=\"WAGES_SALARIES\")"
   ]
  },
  {
   "cell_type": "code",
   "execution_count": 60,
   "id": "217638db",
   "metadata": {},
   "outputs": [
    {
     "data": {
      "image/png": "[encoded data removed]",
      "text/plain": [
       "<Figure size 648x360 with 1 Axes>"
      ]
     },
     "metadata": {
      "needs_background": "light"
     },
     "output_type": "display_data"
    }
   ],
   "source": [
    "plot_trend_over_time(y=\"DIVIDENDS\")"
   ]
  },
  {
   "cell_type": "code",
   "execution_count": 61,
   "id": "530b4ad7",
   "metadata": {},
   "outputs": [
    {
     "data": {
      "image/png": "[encoded data removed]",
      "text/plain": [
       "<Figure size 648x360 with 1 Axes>"
      ]
     },
     "metadata": {
      "needs_background": "light"
     },
     "output_type": "display_data"
    }
   ],
   "source": [
    "plot_trend_over_time(y=\"INTEREST\")"
   ]
  },
  {
   "cell_type": "markdown",
   "id": "2f030ad4",
   "metadata": {},
   "source": [
    "## Propensity Score Matching"
   ]
  },
  {
   "cell_type": "code",
   "execution_count": null,
   "id": "28d5fa05",
   "metadata": {},
   "outputs": [],
   "source": []
  }
 ],
 "metadata": {
  "kernelspec": {
   "display_name": "Python 3 (ipykernel)",
   "language": "python",
   "name": "python3"
  },
  "language_info": {
   "codemirror_mode": {
    "name": "ipython",
    "version": 3
   },
   "file_extension": ".py",
   "mimetype": "text/x-python",
   "name": "python",
   "nbconvert_exporter": "python",
   "pygments_lexer": "ipython3",
   "version": "3.8.10"
  }
 },
 "nbformat": 4,
 "nbformat_minor": 5
}
