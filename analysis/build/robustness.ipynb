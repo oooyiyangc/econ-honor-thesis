{
 "cells": [
  {
   "cell_type": "code",
   "execution_count": null,
   "id": "7982c058",
   "metadata": {},
   "outputs": [],
   "source": []
  },
  {
   "cell_type": "code",
   "execution_count": 1,
   "id": "fc4474a3",
   "metadata": {},
   "outputs": [],
   "source": [
    "import numpy as np\n",
    "import pandas as pd\n",
    "import matplotlib.pyplot as plt\n",
    "import seaborn as sns\n",
    "\n",
    "import re\n",
    "\n",
    "import statsmodels.api as sm\n",
    "from linearmodels import PanelOLS"
   ]
  },
  {
   "cell_type": "code",
   "execution_count": 2,
   "id": "071c3071",
   "metadata": {},
   "outputs": [],
   "source": [
    "DATA_DIR = \"../data/cleaned-data/\""
   ]
  },
  {
   "cell_type": "code",
   "execution_count": 7,
   "id": "1fa79fba",
   "metadata": {},
   "outputs": [
    {
     "name": "stdout",
     "output_type": "stream",
     "text": [
      "\\begin{tabular}{lrrrrr}\n",
      "\\toprule\n",
      "{} &    count &          mean &           std &          min &           max \\\\\n",
      "\\midrule\n",
      "YEAR           &  93030.0 &   2004.500000 &      8.655488 &  1990.000000 &   2019.000000 \\\\\n",
      "GEOFIPS        &  93030.0 &  30725.804902 &  14955.783024 &  1001.000000 &  56045.000000 \\\\\n",
      "POPULATION\\_x   &  93030.0 &      0.005193 &      0.016663 &    -0.655343 &      0.422773 \\\\\n",
      "AVERAGE\\_AGE\\_x  &  93030.0 &      0.166299 &      0.194112 &    -6.655220 &      6.038961 \\\\\n",
      "GENDER\\_RATIO\\_x &  93030.0 &     -0.000364 &      0.002761 &    -0.104565 &      0.155043 \\\\\n",
      "POPULATION\\_y   &  93030.0 &      0.004768 &      0.019153 &    -0.667002 &      0.575877 \\\\\n",
      "AVERAGE\\_AGE\\_y  &  93030.0 &      0.100018 &      0.146565 &    -4.192308 &      3.591166 \\\\\n",
      "GENDER\\_RATIO\\_y &  93030.0 &     -0.000344 &      0.003729 &    -0.141288 &      0.202773 \\\\\n",
      "\\bottomrule\n",
      "\\end{tabular}\n",
      "\n"
     ]
    }
   ],
   "source": [
    "print(pd.read_csv(DATA_DIR + \"population/population_diff.csv\").describe().T[[\"count\", \"mean\", \"std\", \"min\", \"max\"]].to_latex())"
   ]
  },
  {
   "cell_type": "code",
   "execution_count": null,
   "id": "77616a40",
   "metadata": {},
   "outputs": [],
   "source": []
  }
 ],
 "metadata": {
  "kernelspec": {
   "display_name": "Python 3 (ipykernel)",
   "language": "python",
   "name": "python3"
  },
  "language_info": {
   "codemirror_mode": {
    "name": "ipython",
    "version": 3
   },
   "file_extension": ".py",
   "mimetype": "text/x-python",
   "name": "python",
   "nbconvert_exporter": "python",
   "pygments_lexer": "ipython3",
   "version": "3.8.10"
  }
 },
 "nbformat": 4,
 "nbformat_minor": 5
}
